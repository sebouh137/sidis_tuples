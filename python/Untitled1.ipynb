{
 "cells": [
  {
   "cell_type": "code",
   "execution_count": 2,
   "metadata": {},
   "outputs": [
    {
     "name": "stderr",
     "output_type": "stream",
     "text": [
      "/home/sebouh/.local/lib/python3.8/site-packages/uproot3/__init__.py:127: FutureWarning: Consider switching from 'uproot3' to 'uproot', since the new interface became the default in 2020.\n",
      "\n",
      "    pip install -U uproot\n",
      "\n",
      "In Python:\n",
      "\n",
      "    >>> import uproot\n",
      "    >>> with uproot.open(...) as file:\n",
      "    ...\n",
      "\n",
      "  warnings.warn(\n",
      "/home/sebouh/.local/lib/python3.8/site-packages/awkward0/__init__.py:12: FutureWarning: Consider switching from 'awkward0' to 'awkward', since the new interface became the default in 2020.\n",
      "\n",
      "    pip install -U awkward\n",
      "\n",
      "In Python:\n",
      "\n",
      "    >>> import awkward as ak\n",
      "    >>> new_style_array = ak.from_awkward0(old_style_array)\n",
      "    >>> old_style_array = ak.to_awkward0(new_style_array)\n",
      "\n",
      "  warnings.warn(\n"
     ]
    },
    {
     "name": "stdout",
     "output_type": "stream",
     "text": [
      "Welcome to JupyROOT 6.22/06\n"
     ]
    }
   ],
   "source": [
    "#load libraries \n",
    "import time,os\n",
    "from matplotlib.offsetbox import AnchoredText\n",
    "import sys,pandas as pd, matplotlib , matplotlib.pyplot as plt, matplotlib.lines , numpy as np,cupy as cp, math, pylab\n",
    "from mpl_toolkits.mplot3d import Axes3D\n",
    "from matplotlib import cm\n",
    "#import cudf\n",
    "#import ROOT\n",
    "#from ROOT import TFile\n",
    "\n",
    "#import root_pandas\n",
    "\n",
    "#from toggle_cell import hide_cell \n",
    "import uproot3\n",
    "%matplotlib inline\n",
    "\n",
    "#presets for plot style\n",
    "from scipy.constants import golden\n",
    "params = {'legend.fontsize': 'x-large',\n",
    "          'figure.figsize': (7, 7/golden),\n",
    "         'axes.labelsize': 'x-large',\n",
    "         'axes.titlesize':'x-large',\n",
    "         'xtick.labelsize':'x-large',\n",
    "         'ytick.labelsize':'x-large'}\n",
    "pylab.rcParams.update(params)\n",
    "\n",
    "viridis = cm.get_cmap('viridis', 12)\n",
    "inferno = cm.get_cmap('inferno', 12)\n",
    "autumn = cm.get_cmap('autumn', 12)\n",
    "\n",
    "#physical_devices = tf.config.list_physical_devices('GPU')\n",
    "#tf.config.experimental.set_memory_growth(physical_devices[0], True)\n",
    "#tf.config.experimental.set_memory_growth(physical_devices[1], True)\n",
    "rc = plt.rc\n",
    "rc('text', usetex=False)\n",
    "import matplotlib as mpl\n",
    "rc('font', family='serif')\n",
    "rc('text', usetex=False)\n",
    "rc('font', size=15)\n",
    "rc('xtick', labelsize=15)\n",
    "rc('ytick', labelsize=15)\n",
    "rc('legend', fontsize=15)\n",
    "import root_pandas,glob\n",
    "\n",
    "def read_n(pattern, n):\n",
    "    if not '*' in pattern:\n",
    "        a = root_pandas.read_root(pattern,chunksize=int(n))\n",
    "    else:\n",
    "        a = root_pandas.read_root(glob.glob(pattern),chunksize=int(n))\n",
    "    for b in a:\n",
    "        del a\n",
    "        print(n)\n",
    "        return b\n",
    "\n",
    "from scipy.optimize import curve_fit\n",
    "\n",
    "import misc_util"
   ]
  },
  {
   "cell_type": "code",
   "execution_count": 3,
   "metadata": {},
   "outputs": [
    {
     "ename": "ValueError",
     "evalue": "More than one tree found in /home/seba/CreatePairTuples/Pairs_Fe.root",
     "output_type": "error",
     "traceback": [
      "\u001b[0;31m---------------------------------------------------------------------------\u001b[0m",
      "\u001b[0;31mValueError\u001b[0m                                Traceback (most recent call last)",
      "\u001b[0;32m<ipython-input-3-c9d8ded1a70a>\u001b[0m in \u001b[0;36m<module>\u001b[0;34m\u001b[0m\n\u001b[0;32m----> 1\u001b[0;31m \u001b[0mdf\u001b[0m \u001b[0;34m=\u001b[0m \u001b[0mroot_pandas\u001b[0m\u001b[0;34m.\u001b[0m\u001b[0mread_root\u001b[0m\u001b[0;34m(\u001b[0m\u001b[0mglob\u001b[0m\u001b[0;34m.\u001b[0m\u001b[0mglob\u001b[0m\u001b[0;34m(\u001b[0m\u001b[0;34m\"/home/seba/CreatePairTuples/Pairs_Fe.root\"\u001b[0m\u001b[0;34m)\u001b[0m\u001b[0;34m)\u001b[0m\u001b[0;34m\u001b[0m\u001b[0;34m\u001b[0m\u001b[0m\n\u001b[0m",
      "\u001b[0;32m~/.local/lib/python3.8/site-packages/root_pandas/readwrite.py\u001b[0m in \u001b[0;36mread_root\u001b[0;34m(paths, key, columns, ignore, chunksize, where, flatten, *args, **kwargs)\u001b[0m\n\u001b[1;32m    220\u001b[0m             \u001b[0;32mraise\u001b[0m \u001b[0mValueError\u001b[0m\u001b[0;34m(\u001b[0m\u001b[0;34m'No trees found in {}'\u001b[0m\u001b[0;34m.\u001b[0m\u001b[0mformat\u001b[0m\u001b[0;34m(\u001b[0m\u001b[0mseed_path\u001b[0m\u001b[0;34m)\u001b[0m\u001b[0;34m)\u001b[0m\u001b[0;34m\u001b[0m\u001b[0;34m\u001b[0m\u001b[0m\n\u001b[1;32m    221\u001b[0m         \u001b[0;32melse\u001b[0m\u001b[0;34m:\u001b[0m\u001b[0;34m\u001b[0m\u001b[0;34m\u001b[0m\u001b[0m\n\u001b[0;32m--> 222\u001b[0;31m             \u001b[0;32mraise\u001b[0m \u001b[0mValueError\u001b[0m\u001b[0;34m(\u001b[0m\u001b[0;34m'More than one tree found in {}'\u001b[0m\u001b[0;34m.\u001b[0m\u001b[0mformat\u001b[0m\u001b[0;34m(\u001b[0m\u001b[0mseed_path\u001b[0m\u001b[0;34m)\u001b[0m\u001b[0;34m)\u001b[0m\u001b[0;34m\u001b[0m\u001b[0;34m\u001b[0m\u001b[0m\n\u001b[0m\u001b[1;32m    223\u001b[0m \u001b[0;34m\u001b[0m\u001b[0m\n\u001b[1;32m    224\u001b[0m     \u001b[0mbranches\u001b[0m \u001b[0;34m=\u001b[0m \u001b[0mlist_branches\u001b[0m\u001b[0;34m(\u001b[0m\u001b[0mseed_path\u001b[0m\u001b[0;34m,\u001b[0m \u001b[0mkey\u001b[0m\u001b[0;34m)\u001b[0m\u001b[0;34m\u001b[0m\u001b[0;34m\u001b[0m\u001b[0m\n",
      "\u001b[0;31mValueError\u001b[0m: More than one tree found in /home/seba/CreatePairTuples/Pairs_Fe.root"
     ]
    }
   ],
   "source": [
    "df = root_pandas.read_root(glob.glob(\"/home/seba/CreatePairTuples/Pairs_Fe.root\"))"
   ]
  },
  {
   "cell_type": "code",
   "execution_count": 4,
   "metadata": {},
   "outputs": [
    {
     "name": "stdout",
     "output_type": "stream",
     "text": [
      "Help on function read_root in module root_pandas.readwrite:\n",
      "\n",
      "read_root(paths, key=None, columns=None, ignore=None, chunksize=None, where=None, flatten=False, *args, **kwargs)\n",
      "    Read a ROOT file, or list of ROOT files, into a pandas DataFrame.\n",
      "    Further *args and *kwargs are passed to root_numpy's root2array.\n",
      "    If the root file contains a branch matching __index__*, it will become the DataFrame's index.\n",
      "    \n",
      "    Parameters\n",
      "    ----------\n",
      "    paths: string or list\n",
      "        The path(s) to the root file(s)\n",
      "    key: string\n",
      "        The key of the tree to load.\n",
      "    columns: str or sequence of str\n",
      "        A sequence of shell-patterns (can contain *, ?, [] or {}). Matching columns are read.\n",
      "        The columns beginning with `noexpand:` are not interpreted as shell-patterns,\n",
      "        allowing formula columns such as `noexpand:2*x`. The column in the returned DataFrame\n",
      "        will not have the `noexpand:` prefix.\n",
      "    ignore: str or sequence of str\n",
      "        A sequence of shell-patterns (can contain *, ?, [] or {}). All matching columns are ignored (overriding the columns argument).\n",
      "    chunksize: int\n",
      "        If this parameter is specified, an iterator is returned that yields DataFrames with `chunksize` rows.\n",
      "    where: str\n",
      "        Only rows that match the expression will be read.\n",
      "    flatten: sequence of str\n",
      "        A sequence of column names. Will use root_numpy.stretch to flatten arrays in the specified columns into\n",
      "        individual entries. All arrays specified in the columns must have the same length for this to work.\n",
      "        Be careful if you combine this with chunksize, as chunksize will refer to the number of unflattened entries,\n",
      "        so you will be iterating over a number of entries that is potentially larger than chunksize.\n",
      "        The index of each element within its former array will be saved in the __array_index column.\n",
      "    \n",
      "    Returns\n",
      "    -------\n",
      "        DataFrame created from matching data in the specified TTree\n",
      "    \n",
      "    Notes\n",
      "    -----\n",
      "    \n",
      "        >>> df = read_root('test.root', 'MyTree', columns=['A{B,C}*', 'D'], where='ABB > 100')\n",
      "\n"
     ]
    }
   ],
   "source": [
    "help(root_pandas.read_root)"
   ]
  },
  {
   "cell_type": "code",
   "execution_count": null,
   "metadata": {},
   "outputs": [],
   "source": []
  }
 ],
 "metadata": {
  "kernelspec": {
   "display_name": "Python 3",
   "language": "python",
   "name": "python3"
  },
  "language_info": {
   "codemirror_mode": {
    "name": "ipython",
    "version": 3
   },
   "file_extension": ".py",
   "mimetype": "text/x-python",
   "name": "python",
   "nbconvert_exporter": "python",
   "pygments_lexer": "ipython3",
   "version": "3.8.5"
  }
 },
 "nbformat": 4,
 "nbformat_minor": 4
}
