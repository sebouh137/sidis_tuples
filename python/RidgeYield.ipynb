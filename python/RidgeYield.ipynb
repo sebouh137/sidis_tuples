{
 "cells": [
  {
   "cell_type": "markdown",
   "metadata": {},
   "source": [
    "# Load libraries "
   ]
  },
  {
   "cell_type": "code",
   "execution_count": 10,
   "metadata": {},
   "outputs": [
    {
     "ename": "KeyError",
     "evalue": "'CUDA_DEVICE_ORDER'",
     "output_type": "error",
     "traceback": [
      "\u001b[0;31m---------------------------------------------------------------------------\u001b[0m",
      "\u001b[0;31mKeyError\u001b[0m                                  Traceback (most recent call last)",
      "\u001b[0;32m<ipython-input-10-b07577335686>\u001b[0m in \u001b[0;36m<module>\u001b[0;34m\u001b[0m\n\u001b[1;32m      1\u001b[0m \u001b[0;32mimport\u001b[0m \u001b[0mos\u001b[0m\u001b[0;34m\u001b[0m\u001b[0;34m\u001b[0m\u001b[0m\n\u001b[0;32m----> 2\u001b[0;31m \u001b[0mprint\u001b[0m\u001b[0;34m(\u001b[0m\u001b[0mos\u001b[0m\u001b[0;34m.\u001b[0m\u001b[0menviron\u001b[0m\u001b[0;34m[\u001b[0m\u001b[0;34m\"CUDA_DEVICE_ORDER\"\u001b[0m\u001b[0;34m]\u001b[0m\u001b[0;34m)\u001b[0m\u001b[0;34m\u001b[0m\u001b[0;34m\u001b[0m\u001b[0m\n\u001b[0m\u001b[1;32m      3\u001b[0m \u001b[0mprint\u001b[0m\u001b[0;34m(\u001b[0m\u001b[0mos\u001b[0m\u001b[0;34m.\u001b[0m\u001b[0menviron\u001b[0m\u001b[0;34m[\u001b[0m\u001b[0;34m\"CUDA_VISIBLE_DEVICES\"\u001b[0m\u001b[0;34m]\u001b[0m\u001b[0;34m)\u001b[0m\u001b[0;34m\u001b[0m\u001b[0;34m\u001b[0m\u001b[0m\n\u001b[1;32m      4\u001b[0m \u001b[0;31m#os.environ[\"CUDA_DEVICE_ORDER\"] = \"PCI_BUS_ID\"\u001b[0m\u001b[0;34m\u001b[0m\u001b[0;34m\u001b[0m\u001b[0;34m\u001b[0m\u001b[0m\n\u001b[1;32m      5\u001b[0m \u001b[0;31m#os.environ[\"CUDA_VISIBLE_DEVICES\"] = \"0\"\u001b[0m\u001b[0;34m\u001b[0m\u001b[0;34m\u001b[0m\u001b[0;34m\u001b[0m\u001b[0m\n",
      "\u001b[0;32m/usr/lib/python3.8/os.py\u001b[0m in \u001b[0;36m__getitem__\u001b[0;34m(self, key)\u001b[0m\n\u001b[1;32m    673\u001b[0m         \u001b[0;32mexcept\u001b[0m \u001b[0mKeyError\u001b[0m\u001b[0;34m:\u001b[0m\u001b[0;34m\u001b[0m\u001b[0;34m\u001b[0m\u001b[0m\n\u001b[1;32m    674\u001b[0m             \u001b[0;31m# raise KeyError with the original key value\u001b[0m\u001b[0;34m\u001b[0m\u001b[0;34m\u001b[0m\u001b[0;34m\u001b[0m\u001b[0m\n\u001b[0;32m--> 675\u001b[0;31m             \u001b[0;32mraise\u001b[0m \u001b[0mKeyError\u001b[0m\u001b[0;34m(\u001b[0m\u001b[0mkey\u001b[0m\u001b[0;34m)\u001b[0m \u001b[0;32mfrom\u001b[0m \u001b[0;32mNone\u001b[0m\u001b[0;34m\u001b[0m\u001b[0;34m\u001b[0m\u001b[0m\n\u001b[0m\u001b[1;32m    676\u001b[0m         \u001b[0;32mreturn\u001b[0m \u001b[0mself\u001b[0m\u001b[0;34m.\u001b[0m\u001b[0mdecodevalue\u001b[0m\u001b[0;34m(\u001b[0m\u001b[0mvalue\u001b[0m\u001b[0;34m)\u001b[0m\u001b[0;34m\u001b[0m\u001b[0;34m\u001b[0m\u001b[0m\n\u001b[1;32m    677\u001b[0m \u001b[0;34m\u001b[0m\u001b[0m\n",
      "\u001b[0;31mKeyError\u001b[0m: 'CUDA_DEVICE_ORDER'"
     ]
    }
   ],
   "source": [
    "import os\n",
    "print(os.environ[\"CUDA_DEVICE_ORDER\"])\n",
    "print(os.environ[\"CUDA_VISIBLE_DEVICES\"])\n",
    "#os.environ[\"CUDA_DEVICE_ORDER\"] = \"PCI_BUS_ID\"\n",
    "#os.environ[\"CUDA_VISIBLE_DEVICES\"] = \"0\""
   ]
  },
  {
   "cell_type": "code",
   "execution_count": 11,
   "metadata": {},
   "outputs": [],
   "source": [
    "#load libraries \n",
    "import sys,pandas as pd, matplotlib , matplotlib.pyplot as plt, matplotlib.lines , numpy as np,cupy as cp, math, pylab\n",
    "#import cudf\n",
    "#import ROOT\n",
    "#from ROOT import TFile\n",
    "\n",
    "#import root_pandas\n",
    "import uproot3\n",
    "%matplotlib inline\n",
    "\n",
    "#presets for plot style\n",
    "from scipy.constants import golden\n",
    "params = {'legend.fontsize': 'x-large',\n",
    "          'figure.figsize': (7, 7/golden),\n",
    "         'axes.labelsize': 'x-large',\n",
    "         'axes.titlesize':'x-large',\n",
    "         'xtick.labelsize':'x-large',\n",
    "         'ytick.labelsize':'x-large'}\n",
    "pylab.rcParams.update(params)\n",
    "\n",
    "from scipy.optimize import curve_fit\n",
    "\n",
    "import misc_util\n"
   ]
  },
  {
   "cell_type": "markdown",
   "metadata": {},
   "source": [
    "# Load tuple files\n",
    "The following will automatically download the files from https://userweb.jlab.org/~spaul/sidis_tuple_examples, if they are not already downloaded.  "
   ]
  },
  {
   "cell_type": "code",
   "execution_count": 12,
   "metadata": {},
   "outputs": [],
   "source": [
    "\n",
    "data_dihadrons = uproot3.open('../in/data_dihadrons.root')['dihadrons'].pandas.df()\n",
    "data_dipions = uproot3.open('../in/data_dipions.root')['dipions'].pandas.df()"
   ]
  },
  {
   "cell_type": "markdown",
   "metadata": {},
   "source": [
    "Now load the tuples from the files."
   ]
  },
  {
   "cell_type": "code",
   "execution_count": 13,
   "metadata": {},
   "outputs": [],
   "source": [
    "for df in data_dihadrons, data_dipions:\n",
    "    df['diff_phi_shift'] = df.diff_phi_cm + (2*np.pi)*(df.diff_phi_cm<-np.pi/2)"
   ]
  },
  {
   "cell_type": "code",
   "execution_count": 14,
   "metadata": {},
   "outputs": [
    {
     "name": "stdout",
     "output_type": "stream",
     "text": [
      "data dihadrons \tlength = 896732\n",
      "data dipions \tlength = 945047\n"
     ]
    }
   ],
   "source": [
    "#print the number of entries in each tuple\n",
    "print(\"data dihadrons \\tlength =\", len(data_dihadrons))\n",
    "print(\"data dipions \\tlength =\", len(data_dipions))"
   ]
  },
  {
   "cell_type": "code",
   "execution_count": 15,
   "metadata": {},
   "outputs": [
    {
     "name": "stdout",
     "output_type": "stream",
     "text": [
      "Index(['E', 'helicity', 'e_p', 'e_th', 'e_ph', 'nu', 'Q2', 'x', 'y', 'W',\n",
      "       'ntracks', 'h1_chi2pid', 'h2_chi2pid', 'h1_pid', 'h2_pid', 'h1_p',\n",
      "       'h2_p', 'h1_th', 'h2_th', 'h1_ph', 'h2_ph', 'h1_z', 'h2_z', 'h1_eta',\n",
      "       'h2_eta', 'h1_cm_p', 'h2_cm_p', 'h1_cm_th', 'h2_cm_th', 'h1_cm_ph',\n",
      "       'h2_cm_ph', 'h1_cm_eta', 'h2_cm_eta', 'h1_cm_pt', 'h2_cm_pt',\n",
      "       'pair_mass', 'mx_eh1h2x', 'mx_eh1x', 'mx_eh2x', 'diff_eta', 'diff_phi',\n",
      "       'nelectrons', 'diff_phi_cm', 'diff_eta_cm', 'diff_phi_shift'],\n",
      "      dtype='object')\n"
     ]
    }
   ],
   "source": [
    "print(data_dihadrons.columns)\n",
    "if not 'mx_eh1h2x' in data_dihadrons.columns:\n",
    "    expr = \"sqrt((E+.93827208816-sqrt(e_p**2+.000511**2)-sqrt(h1_p**2+((abs(h1_pid)==211)*.13957018+(abs(h1_pid)==321)*.493677+(abs(h1_pid)==2212)*.93827208816)**2)\"+\\\n",
    "   \"-sqrt(h2_p**2+((abs(h2_pid)==211)*.13957018+(abs(h2_pid)==321)*.493677+(abs(h2_pid)==2212)*.93827208816)**2))**2\"+\\\n",
    "       \"-(E-e_p*cos(e_th)-h1_p*cos(h1_th)-h2_p*cos(h2_th))**2\"+\\\n",
    "       \"-(-e_p*sin(e_th)*cos(e_ph)-h1_p*sin(h1_th)*cos(h1_ph)-h2_p*sin(h2_th)*cos(h2_ph))**2\"+\\\n",
    "       \"-(-e_p*sin(e_th)*sin(e_ph)-h1_p*sin(h1_th)*sin(h1_ph)-h2_p*sin(h2_th)*sin(h2_ph))**2)\"\n",
    "    data_dihadrons['mx_eh1h2x'] = data_dihadrons.eval(expr)\n",
    "\n",
    "if not 'pair_mass' in data_dihadrons.columns:\n",
    "    expr = \"sqrt((sqrt(h1_p**2+((abs(h1_pid)==211)*.13957018+(abs(h1_pid)==321)*.493677+(abs(h1_pid)==2212)*.93827208816)**2)\"+\\\n",
    "       \"+sqrt(h2_p**2+((abs(h2_pid)==211)*.13957018+(abs(h2_pid)==321)*.493677+(abs(h2_pid)==2212)*.93827208816)**2))**2\"+\\\n",
    "           \"-(h1_p*cos(h1_th)+h2_p*cos(h2_th))**2\"+\\\n",
    "           \"-(h1_p*sin(h1_th)*cos(h1_ph)+h2_p*sin(h2_th)*cos(h2_ph))**2\"+\\\n",
    "           \"-(h1_p*sin(h1_th)*sin(h1_ph)+h2_p*sin(h2_th)*sin(h2_ph))**2)\"\n",
    "    data_dihadrons['pair_mass'] = data_dihadrons.eval(expr)\n",
    "\n",
    "if not 'mx_eh2x' in data_dihadrons.columns:\n",
    "    expr = \"sqrt((E+.93827208816-sqrt(e_p**2+.000511**2)\"+\\\n",
    "       \"-sqrt(h2_p**2+((abs(h2_pid)==211)*.13957018+(abs(h2_pid)==321)*.493677+(abs(h2_pid)==2212)*.93827208816)**2))**2\"+\\\n",
    "           \"-(E-e_p*cos(e_th)-h2_p*cos(h2_th))**2\"+\\\n",
    "           \"-(-e_p*sin(e_th)*cos(e_ph)-h2_p*sin(h2_th)*cos(h2_ph))**2\"+\\\n",
    "           \"-(-e_p*sin(e_th)*sin(e_ph)-h2_p*sin(h2_th)*sin(h2_ph))**2)\"\n",
    "    data_dihadrons['mx_eh2x'] = data_dihadrons.eval(expr)\n",
    "\n",
    "if not 'mx_eh1x' in data_dihadrons.columns:\n",
    "    expr = \"sqrt((E+.93827208816-sqrt(e_p**2+.000511**2)\"+\\\n",
    "       \"-sqrt(h1_p**2+((abs(h1_pid)==211)*.13957018+(abs(h1_pid)==321)*.493677+(abs(h1_pid)==2212)*.93827208816)**2))**2\"+\\\n",
    "           \"-(E-e_p*cos(e_th)-h1_p*cos(h1_th))**2\"+\\\n",
    "           \"-(-e_p*sin(e_th)*cos(e_ph)-h1_p*sin(h1_th)*cos(h1_ph))**2\"+\\\n",
    "           \"-(-e_p*sin(e_th)*sin(e_ph)-h1_p*sin(h1_th)*sin(h1_ph))**2)\"\n",
    "    data_dihadrons['mx_eh1x'] = data_dihadrons.eval(expr)\n",
    "#data_dipions['missing_mass'] = data_dipions.eval(expr.replace(\"h1\",'pi1').replace('h2','pi2'))\n"
   ]
  },
  {
   "cell_type": "code",
   "execution_count": 16,
   "metadata": {},
   "outputs": [],
   "source": [
    "import scipy.optimize\n",
    "def yridge(df,n=3,bins = 50,debugplots = False):\n",
    "    x,y,dy=[],[],[]\n",
    "    denom = len(df)*2*np.pi/bins\n",
    "    for xmid, bindf in misc_util.BinIterator(df, \"abs(diff_phi)\", 0,np.pi,bins):\n",
    "        x.append(xmid)\n",
    "        y.append(len(bindf)/denom)\n",
    "        dyi = np.sqrt(len(bindf))/denom\n",
    "        dyi=dyi\n",
    "        if xmid<0.1 or xmid>2:\n",
    "            dyi = 1000;\n",
    "        dy.append(dyi)\n",
    "    x = pd.Series(x)\n",
    "    y = pd.Series(y)\n",
    "    dy = pd.Series(dy)\n",
    "    def f (xx,b0,b1,b2,b3):\n",
    "        args=[b0,b1,b2,b3]\n",
    "        tot = 0\n",
    "        for i in range(len(args)):\n",
    "            tot+=args[i]*np.cos(i*xx)\n",
    "        return tot\n",
    "    b,bcov = scipy.optimize.curve_fit(f, x, y,sigma=dy)\n",
    "    #b = [2*sum(y*np.cos(i*x)/dy**2)/sum(1/dy**2) for i in range(0,n+1)]\n",
    "    #b = [2*sum(y*np.cos(i*x))/len(x) for i in range(0,n+1)]\n",
    "    #b[0]/=2\n",
    "   \n",
    "    s = 0\n",
    "    for i in range(0,n+1):\n",
    "        s = b[i]*np.cos(i*x)+s\n",
    "    if(debugplots):\n",
    "        print(b)\n",
    "        plt.errorbar(x,y,dy,linestyle='',marker='o',color='k')\n",
    "        plt.plot(x,s,linestyle='-')\n",
    "        plt.gca().set_ylim(-1,1)\n",
    "    \n",
    "    smin = s[0]\n",
    "    xmin=0\n",
    "    for xi,si in zip(x,s):\n",
    "        if(si<smin):\n",
    "            xmin = xi\n",
    "            smin = si\n",
    "    integral = 0\n",
    "    dx = x[1]-x[0]\n",
    "    for xi,si in zip(x,s):\n",
    "        if(xi<xmin):\n",
    "            integral+=(si-smin)*dx\n",
    "        else:\n",
    "            break\n",
    "    return integral\n",
    "    "
   ]
  },
  {
   "cell_type": "code",
   "execution_count": 17,
   "metadata": {},
   "outputs": [
    {
     "name": "stdout",
     "output_type": "stream",
     "text": [
      "0\n"
     ]
    }
   ],
   "source": [
    "df = data_dihadrons.query(\"h1_cm_eta-h2_cm_eta>2.0 and h1_cm_eta-h2_cm_eta<200.0 and h1_cm_pt>0.3 and h2_cm_pt>0.3\"\\\n",
    "        + \" and h1_cm_pt<3 and h2_pid == 2212 and mx_eh1x>1.665\")\n",
    "\n",
    "print(yridge(df, ))\n",
    "\n"
   ]
  },
  {
   "cell_type": "code",
   "execution_count": 66,
   "metadata": {},
   "outputs": [],
   "source": [
    "import scipy.optimize,numpy.random,time,os\n",
    "def upper_limit_yridge(df,n=3,bins = 100,miniterations=100,maxiterations=200000,fitrange=(0,np.pi),\n",
    "                       progressPrintInterval=None, #print stats after every [...] iterations (don't print if 0)\n",
    "                       sayDone=False):\n",
    "    if len(df) == 0:\n",
    "        return 1, 1.0, 0,0\n",
    "    start = time.perf_counter()\n",
    "    x,y,dy,w=[],[],[],[]\n",
    "    denom = len(df)*2*np.pi/bins\n",
    "    for xmid, bindf in misc_util.BinIterator(df, \"abs(diff_phi)\", 0,np.pi,bins):\n",
    "        x.append(xmid)\n",
    "        y.append(len(bindf)/denom)\n",
    "        dyi = max(np.sqrt(len(bindf)),1)/denom\n",
    "        dy.append(dyi)\n",
    "        w.append(1/dyi**2 if not(xmid<fitrange[0] or xmid>fitrange[1]) else 1000);\n",
    "    x = pd.Series(x)\n",
    "    y = pd.Series(y)\n",
    "    dy = pd.Series(dy)\n",
    "    w = pd.Series(w)\n",
    "    yields=[]\n",
    "    nonzeroyields=0\n",
    "    for ii in range(maxiterations):\n",
    "        yrand = y+numpy.random.randn(len(dy))*dy*(dy<999)\n",
    "        #print((yrand-y)/dy)\n",
    "        if n==3:\n",
    "            def f (xx,b0,b1,b2,b3):\n",
    "                args=[b0,b1,b2,b3]\n",
    "                tot = 0\n",
    "                for i in range(len(args)):\n",
    "                    tot+=args[i]*np.cos(i*xx)\n",
    "                return tot\n",
    "        \n",
    "        if n==4:\n",
    "            def f (xx,b0,b1,b2,b3,b4):\n",
    "                args=[b0,b1,b2,b3,b4]\n",
    "                tot = 0\n",
    "                for i in range(len(args)):\n",
    "                    tot+=args[i]*np.cos(i*xx)\n",
    "                return tot\n",
    "        if n==5:\n",
    "            def f (xx,b0,b1,b2,b3,b4,b5):\n",
    "                args=[b0,b1,b2,b3,b4,b5]\n",
    "                tot = 0\n",
    "                for i in range(len(args)):\n",
    "                    tot+=args[i]*np.cos(i*xx)\n",
    "                return tot\n",
    "        b,bcov = scipy.optimize.curve_fit(f, x, yrand,sigma=1/np.sqrt(w))\n",
    "        \n",
    "        #don't waste your time if f''[0] is positive\n",
    "        fpp0= sum([-i*i*b[i] for i in range(len(b))])\n",
    "        #print(fpp0)\n",
    "        if fpp0 < 0:  \n",
    "            s = 0\n",
    "            for i in range(0,n+1):\n",
    "                s = b[i]*np.cos(i*x)+s\n",
    "\n",
    "            smin = max(s)\n",
    "\n",
    "            xmin=fitrange[0]\n",
    "            for xi,si in zip(x,s):\n",
    "                if(xi<fitrange[0]):\n",
    "                    continue\n",
    "                if(si<smin):\n",
    "                    xmin = xi\n",
    "                    smin = si\n",
    "            integral = 0\n",
    "            dx = x[1]-x[0]\n",
    "            for xi,si in zip(x,s):\n",
    "                if(xi<xmin):\n",
    "                    integral+=(si-smin)*dx\n",
    "                else:\n",
    "                    break\n",
    "            yields.append(integral)\n",
    "            nonzeroyields+=1\n",
    "        else :\n",
    "            yields.append(0)\n",
    "        durationsofar = time.perf_counter()-start;\n",
    "        if progressPrintInterval:\n",
    "            if ii%progressPrintInterval == 0:\n",
    "                print(\"iter \", ii, \"; average so far: \", durationsofar/(ii+1), \n",
    "                    \";   time so far: \",durationsofar//3600,\"hours\", (durationsofar//60)%60, \"minutes\", int(durationsofar % 60), \"seconds\")\n",
    "        if ii == miniterations and nonzeroyields == 0:\n",
    "            break\n",
    "            \n",
    "    duration = time.perf_counter()-start;\n",
    "    print(\"total time: \",int(duration//3600),\"hours\", int((duration//60)%60), \"minutes\", int(duration % 60), \"seconds\")\n",
    "    if sayDone:\n",
    "        os.system('say \"done\"')    \n",
    "    yields = pd.Series(yields)\n",
    "    \n",
    "    UL = yields.quantile(.95)\n",
    "    CL = .95\n",
    "    median = yields.median()\n",
    "    LL = yields.quantile(.05)\n",
    "    \n",
    "    thresh = 1e-5\n",
    "    if UL <thresh:\n",
    "        UL = thresh\n",
    "        CL = len(yields[yields<thresh])/len(yields)\n",
    "        median = 0\n",
    "        LL = 0\n",
    "    return UL, CL,median,LL\n",
    "    \n",
    "    "
   ]
  },
  {
   "cell_type": "code",
   "execution_count": 67,
   "metadata": {},
   "outputs": [
    {
     "name": "stdout",
     "output_type": "stream",
     "text": [
      "iter  0 ; average so far:  0.10567976598395035 ;   time so far:  0.0 hours 0.0 minutes 0 seconds\n",
      "iter  100 ; average so far:  0.017488525356258274 ;   time so far:  0.0 hours 0.0 minutes 1 seconds\n",
      "total time:  0 hours 0 minutes 1 seconds\n",
      "(1e-05, 1.0, 0, 0)\n"
     ]
    }
   ],
   "source": [
    "\n",
    "df = data_dihadrons.query(\"h1_cm_eta-h2_cm_eta>2.0 and h1_cm_eta-h2_cm_eta<200.0 and h1_cm_pt>0.3 and h2_cm_pt>0.3\"\\\n",
    "        + \" and h1_cm_pt<3 and h2_pid == 2212 and mx_eh1x>1.665\")\n",
    "print(upper_limit_yridge(df,miniterations=100,n=3,bins=50,fitrange=(0,np.pi),progressPrintInterval=100))\n"
   ]
  },
  {
   "cell_type": "code",
   "execution_count": null,
   "metadata": {},
   "outputs": [],
   "source": []
  },
  {
   "cell_type": "code",
   "execution_count": 71,
   "metadata": {},
   "outputs": [
    {
     "name": "stdout",
     "output_type": "stream",
     "text": [
      "total time:  0 hours 0 minutes 1 seconds\n",
      "1e-05 1.0 0 0\n",
      "total time:  0 hours 0 minutes 1 seconds\n",
      "1e-05 1.0 0 0\n",
      "total time:  0 hours 0 minutes 1 seconds\n",
      "0.024692694155682537 0.95 0.009350616040469101 0.0\n",
      "total time:  0 hours 0 minutes 1 seconds\n",
      "0.005857462256303138 0.95 0.0 0.0\n",
      "total time:  0 hours 0 minutes 1 seconds\n",
      "1.233141923390137 0.95 0.0 0.0\n",
      "1 1.0 0 0\n",
      "total time:  0 hours 0 minutes 1 seconds\n",
      "1e-05 1.0 0 0\n",
      "total time:  0 hours 0 minutes 1 seconds\n",
      "1e-05 1.0 0 0\n",
      "total time:  0 hours 0 minutes 1 seconds\n",
      "1e-05 0.97 0 0\n",
      "total time:  0 hours 0 minutes 1 seconds\n",
      "0.12575517434707656 0.95 0.0 0.0\n",
      "total time:  0 hours 0 minutes 1 seconds\n",
      "5.015882416935845 0.95 0.0 0.0\n",
      "total time:  0 hours 0 minutes 1 seconds\n",
      "4.97797297101322 0.95 5.128293628315865e-05 0.0\n"
     ]
    },
    {
     "data": {
      "image/png": "[encoded data removed]",
      "text/plain": [
       "<Figure size 1008x720 with 1 Axes>"
      ]
     },
     "metadata": {
      "needs_background": "light"
     },
     "output_type": "display_data"
    }
   ],
   "source": [
    "plt.subplots(1,1, figsize=(14,10))\n",
    "df = data_dihadrons.query(\"h1_cm_eta-h2_cm_eta>2.0 and h1_cm_eta-h2_cm_eta<200.0 and h1_cm_pt>0.3 and h2_cm_pt>0.3\"\\\n",
    "        + \" and h2_pid == 2212 and mx_eh1x>1.665\")\n",
    "\n",
    "mintracks,maxtracks,bins = 2, 20, 6\n",
    "offset = (maxtracks-mintracks)/bins*0.25\n",
    "for pid,pm,shift in (211,\"+\",-offset/2),(-211,'-',offset/2):\n",
    "    x,ul,cl,medians,ll=[],[],[],[],[]\n",
    "    df_pid = df.query(\"h1_pid == %s\" %pid)\n",
    "    for xmid,bindf in misc_util.BinIterator(df_pid,\"ntracks\", mintracks, maxtracks,bins):\n",
    "        UL,CL,median,LL = upper_limit_yridge(bindf,miniterations=100,maxiterations=100,n=3,bins=50,fitrange=(0,np.pi))\n",
    "        print(UL,CL,median,LL)\n",
    "        x.append(xmid+shift)\n",
    "        ul.append(UL)\n",
    "        cl.append(CL)\n",
    "        medians.append(median)\n",
    "        ll.append(LL)\n",
    "    plt.plot(x,ul,marker='o',label='$\\\\pi^%sp$'%pm,linestyle='')\n",
    "    plt.plot(x,medians,marker='o',linestyle='')\n",
    "    plt.plot(x,ll,marker='o',linestyle='')\n",
    "    plt.gca().set_yscale('log')\n",
    "    for i in range(len(x)):\n",
    "        plt.text(x[i],ul[i],'%s'%int(100*cl[i]))\n",
    "plt.gca().set_xlabel(\"number of tracks\")\n",
    "plt.gca().legend()\n",
    "plt.axhline(1,linestyle=':',color='0.5',alpha=0.7)\n",
    "plt.show()"
   ]
  },
  {
   "cell_type": "code",
   "execution_count": null,
   "metadata": {},
   "outputs": [],
   "source": [
    "df = data_dihadrons.query(\"h1_cm_eta-h2_cm_eta>2.0 and h1_cm_eta-h2_cm_eta<200.0 and h1_cm_pt>0.3 and h2_cm_pt>0.3\"\\\n",
    "        + \" and h2_pid == 2212 and mx_eh1x>1.665\")\n",
    "\n",
    "for pid,pm,shift in (211,\"+\",0),(-211,'-',0.025):\n",
    "    x,y,cl=[],[],[]\n",
    "    df_pid = df.query(\"h1_pid == %s\" %pid)\n",
    "    for xmid,bindf in misc_util.BinIterator(df_pid,\"h2_cm_pt\", 0.3, 0.9,6):\n",
    "        UL,CL = upper_limit_yridge(df,miniterations=200000,n=3,bins=50,fitrange=(0,np.pi))\n",
    "        print(UL,CL)\n",
    "        x.append(xmid+shift)\n",
    "        y.append(UL)\n",
    "        cl.append(CL)\n",
    "    plt.plot(x,y,marker='o',label='$\\\\pi^%sp$'%pm,linestyle='')\n",
    "    plt.gca().set_yscale('log')\n",
    "    for i in range(len(x)):\n",
    "        plt.text(x[i],y[i],'%s'%int(100*cl[i]))\n",
    "plt.gca().set_xlabel(\"$p_t(p)$\")\n",
    "plt.gca().legend()\n",
    "plt.show()"
   ]
  },
  {
   "cell_type": "code",
   "execution_count": null,
   "metadata": {},
   "outputs": [],
   "source": []
  }
 ],
 "metadata": {
  "kernelspec": {
   "display_name": "Python 3",
   "language": "python",
   "name": "python3"
  },
  "language_info": {
   "codemirror_mode": {
    "name": "ipython",
    "version": 3
   },
   "file_extension": ".py",
   "mimetype": "text/x-python",
   "name": "python",
   "nbconvert_exporter": "python",
   "pygments_lexer": "ipython3",
   "version": "3.8.5"
  }
 },
 "nbformat": 4,
 "nbformat_minor": 4
}
