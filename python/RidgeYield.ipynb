{
 "cells": [
  {
   "cell_type": "markdown",
   "metadata": {},
   "source": [
    "# Load libraries "
   ]
  },
  {
   "cell_type": "code",
   "execution_count": 1,
   "metadata": {},
   "outputs": [
    {
     "name": "stdout",
     "output_type": "stream",
     "text": [
      "Welcome to JupyROOT 6.23/01\n"
     ]
    }
   ],
   "source": [
    "#load libraries \n",
    "import sys,pandas as pd, matplotlib , matplotlib.pyplot as plt, matplotlib.lines , numpy as np, math, pylab\n",
    "#import ROOT\n",
    "#from ROOT import TFile\n",
    "\n",
    "import root_pandas\n",
    "%matplotlib inline\n",
    "\n",
    "#presets for plot style\n",
    "from scipy.constants import golden\n",
    "params = {'legend.fontsize': 'x-large',\n",
    "          'figure.figsize': (7, 7/golden),\n",
    "         'axes.labelsize': 'x-large',\n",
    "         'axes.titlesize':'x-large',\n",
    "         'xtick.labelsize':'x-large',\n",
    "         'ytick.labelsize':'x-large'}\n",
    "pylab.rcParams.update(params)\n",
    "\n",
    "from scipy.optimize import curve_fit\n"
   ]
  },
  {
   "cell_type": "markdown",
   "metadata": {},
   "source": [
    "# Load tuple files\n",
    "The following will automatically download the files from https://userweb.jlab.org/~spaul/sidis_tuple_examples, if they are not already downloaded.  "
   ]
  },
  {
   "cell_type": "code",
   "execution_count": 2,
   "metadata": {},
   "outputs": [
    {
     "name": "stdout",
     "output_type": "stream",
     "text": [
      "found file: data_dihadrons.root,\t no need to re-download\n",
      "found file: data_dipions.root,\t no need to re-download\n",
      "done downloading or finding files\n"
     ]
    }
   ],
   "source": [
    "import urllib.request, os\n",
    "\n",
    "for filename in \"data_dihadrons.root\",\"data_dipions.root\":\n",
    "    if not (filename in os.listdir(\".\")):\n",
    "        url = 'https://userweb.jlab.org/~spaul/sidis_tuples_examples/' +filename\n",
    "        urllib.request.urlretrieve(url, filename)\n",
    "        print(\"downloaded file from \" + url)\n",
    "    else:\n",
    "        print(\"found file: \" + filename + \",\\t no need to re-download\")\n",
    "print(\"done downloading or finding files\")"
   ]
  },
  {
   "cell_type": "markdown",
   "metadata": {},
   "source": [
    "Now load the tuples from the files."
   ]
  },
  {
   "cell_type": "code",
   "execution_count": 3,
   "metadata": {},
   "outputs": [],
   "source": [
    "\n",
    "data_dihadrons = root_pandas.read_root(\"data_dihadrons.root\", \"dihadrons\")\n",
    "data_dipions = root_pandas.read_root(\"data_dipions.root\", \"dipions\")\n",
    "\n",
    "for df in data_dihadrons, data_dipions:\n",
    "    df['diff_phi_shift'] = df.diff_phi_cm + (2*np.pi)*(df.diff_phi_cm<-np.pi/2)"
   ]
  },
  {
   "cell_type": "code",
   "execution_count": 4,
   "metadata": {},
   "outputs": [
    {
     "name": "stdout",
     "output_type": "stream",
     "text": [
      "data dihadrons \tlength = 469183\n",
      "data dipions \tlength = 945047\n"
     ]
    }
   ],
   "source": [
    "#print the number of entries in each tuple\n",
    "print(\"data dihadrons \\tlength =\", len(data_dihadrons))\n",
    "print(\"data dipions \\tlength =\", len(data_dipions))"
   ]
  },
  {
   "cell_type": "code",
   "execution_count": 5,
   "metadata": {},
   "outputs": [
    {
     "name": "stdout",
     "output_type": "stream",
     "text": [
      "Index(['E', 'helicity', 'e_p', 'e_th', 'e_ph', 'nu', 'Q2', 'x', 'y', 'W',\n",
      "       'h1_chi2pid', 'h2_chi2pid', 'h1_pid', 'h2_pid', 'h1_p', 'h2_p', 'h1_th',\n",
      "       'h2_th', 'h1_ph', 'h2_ph', 'h1_z', 'h2_z', 'h1_eta', 'h2_eta',\n",
      "       'h1_cm_p', 'h2_cm_p', 'h1_cm_th', 'h2_cm_th', 'h1_cm_ph', 'h2_cm_ph',\n",
      "       'h1_cm_eta', 'h2_cm_eta', 'h1_cm_pt', 'h2_cm_pt', 'pair_mass',\n",
      "       'diff_eta', 'diff_phi', 'nelectrons', 'diff_phi_cm', 'diff_eta_cm',\n",
      "       'diff_phi_shift'],\n",
      "      dtype='object')\n"
     ]
    }
   ],
   "source": [
    "print(data_dihadrons.columns)\n",
    "if not 'mx_eh1h2x' in data_dihadrons.columns:\n",
    "    expr = \"sqrt((E+.93827208816-sqrt(e_p**2+.000511**2)-sqrt(h1_p**2+((abs(h1_pid)==211)*.13957018+(abs(h1_pid)==321)*.493677+(abs(h1_pid)==2212)*.93827208816)**2)\"+\\\n",
    "   \"-sqrt(h2_p**2+((abs(h2_pid)==211)*.13957018+(abs(h2_pid)==321)*.493677+(abs(h2_pid)==2212)*.93827208816)**2))**2\"+\\\n",
    "       \"-(E-e_p*cos(e_th)-h1_p*cos(h1_th)-h2_p*cos(h2_th))**2\"+\\\n",
    "       \"-(-e_p*sin(e_th)*cos(e_ph)-h1_p*sin(h1_th)*cos(h1_ph)-h2_p*sin(h2_th)*cos(h2_ph))**2\"+\\\n",
    "       \"-(-e_p*sin(e_th)*sin(e_ph)-h1_p*sin(h1_th)*sin(h1_ph)-h2_p*sin(h2_th)*sin(h2_ph))**2)\"\n",
    "    data_dihadrons['mx_eh1h2x'] = data_dihadrons.eval(expr)\n",
    "\n",
    "if not 'pair_mass' in data_dihadrons.columns:\n",
    "    expr = \"sqrt((sqrt(h1_p**2+((abs(h1_pid)==211)*.13957018+(abs(h1_pid)==321)*.493677+(abs(h1_pid)==2212)*.93827208816)**2)\"+\\\n",
    "       \"+sqrt(h2_p**2+((abs(h2_pid)==211)*.13957018+(abs(h2_pid)==321)*.493677+(abs(h2_pid)==2212)*.93827208816)**2))**2\"+\\\n",
    "           \"-(h1_p*cos(h1_th)+h2_p*cos(h2_th))**2\"+\\\n",
    "           \"-(h1_p*sin(h1_th)*cos(h1_ph)+h2_p*sin(h2_th)*cos(h2_ph))**2\"+\\\n",
    "           \"-(h1_p*sin(h1_th)*sin(h1_ph)+h2_p*sin(h2_th)*sin(h2_ph))**2)\"\n",
    "    data_dihadrons['pair_mass'] = data_dihadrons.eval(expr)\n",
    "\n",
    "if not 'mx_eh2x' in data_dihadrons.columns:\n",
    "    expr = \"sqrt((E+.93827208816-sqrt(e_p**2+.000511**2)\"+\\\n",
    "       \"-sqrt(h2_p**2+((abs(h2_pid)==211)*.13957018+(abs(h2_pid)==321)*.493677+(abs(h2_pid)==2212)*.93827208816)**2))**2\"+\\\n",
    "           \"-(E-e_p*cos(e_th)-h2_p*cos(h2_th))**2\"+\\\n",
    "           \"-(-e_p*sin(e_th)*cos(e_ph)-h2_p*sin(h2_th)*cos(h2_ph))**2\"+\\\n",
    "           \"-(-e_p*sin(e_th)*sin(e_ph)-h2_p*sin(h2_th)*sin(h2_ph))**2)\"\n",
    "    data_dihadrons['mx_eh2x'] = data_dihadrons.eval(expr)\n",
    "\n",
    "if not 'mx_eh1x' in data_dihadrons.columns:\n",
    "    expr = \"sqrt((E+.93827208816-sqrt(e_p**2+.000511**2)\"+\\\n",
    "       \"-sqrt(h1_p**2+((abs(h1_pid)==211)*.13957018+(abs(h1_pid)==321)*.493677+(abs(h1_pid)==2212)*.93827208816)**2))**2\"+\\\n",
    "           \"-(E-e_p*cos(e_th)-h1_p*cos(h1_th))**2\"+\\\n",
    "           \"-(-e_p*sin(e_th)*cos(e_ph)-h1_p*sin(h1_th)*cos(h1_ph))**2\"+\\\n",
    "           \"-(-e_p*sin(e_th)*sin(e_ph)-h1_p*sin(h1_th)*sin(h1_ph))**2)\"\n",
    "    data_dihadrons['mx_eh1x'] = data_dihadrons.eval(expr)\n",
    "#data_dipions['missing_mass'] = data_dipions.eval(expr.replace(\"h1\",'pi1').replace('h2','pi2'))\n"
   ]
  },
  {
   "cell_type": "code",
   "execution_count": 10,
   "metadata": {},
   "outputs": [],
   "source": [
    "import scipy.optimize\n",
    "def yridge(df,n=3,bins = 50,debugplots = False):\n",
    "    x,y,dy=[],[],[]\n",
    "    denom = len(df)*2*np.pi/bins\n",
    "    for xmid, bindf in misc_util.BinIterator(df, \"abs(diff_phi)\", 0,np.pi,bins):\n",
    "        x.append(xmid)\n",
    "        y.append(len(bindf)/denom)\n",
    "        dyi = np.sqrt(len(bindf))/denom\n",
    "        dyi=dyi\n",
    "        if xmid<0.1 or xmid>2:\n",
    "            dyi = 1000;\n",
    "        dy.append(dyi)\n",
    "    x = pd.Series(x)\n",
    "    y = pd.Series(y)\n",
    "    dy = pd.Series(dy)\n",
    "    def f (xx,b0,b1,b2,b3):\n",
    "        args=[b0,b1,b2,b3]\n",
    "        tot = 0\n",
    "        for i in range(len(args)):\n",
    "            tot+=args[i]*np.cos(i*xx)\n",
    "        return tot\n",
    "    b,bcov = scipy.optimize.curve_fit(f, x, y,sigma=dy)\n",
    "    #b = [2*sum(y*np.cos(i*x)/dy**2)/sum(1/dy**2) for i in range(0,n+1)]\n",
    "    #b = [2*sum(y*np.cos(i*x))/len(x) for i in range(0,n+1)]\n",
    "    #b[0]/=2\n",
    "   \n",
    "    s = 0\n",
    "    for i in range(0,n+1):\n",
    "        s = b[i]*np.cos(i*x)+s\n",
    "    if(debugplots):\n",
    "        print(b)\n",
    "        plt.errorbar(x,y,dy,linestyle='',marker='o',color='k')\n",
    "        plt.plot(x,s,linestyle='-')\n",
    "        plt.gca().set_ylim(-1,1)\n",
    "    \n",
    "    smin = s[0]\n",
    "    xmin=0\n",
    "    for xi,si in zip(x,s):\n",
    "        if(si<smin):\n",
    "            xmin = xi\n",
    "            smin = si\n",
    "    integral = 0\n",
    "    dx = x[1]-x[0]\n",
    "    for xi,si in zip(x,s):\n",
    "        if(xi<xmin):\n",
    "            integral+=(si-smin)*dx\n",
    "        else:\n",
    "            break\n",
    "    return integral\n",
    "    "
   ]
  },
  {
   "cell_type": "code",
   "execution_count": 11,
   "metadata": {},
   "outputs": [
    {
     "name": "stdout",
     "output_type": "stream",
     "text": [
      "0\n"
     ]
    }
   ],
   "source": [
    "df = data_dihadrons.query(\"h1_cm_eta-h2_cm_eta>2.0 and h1_cm_eta-h2_cm_eta<200.0 and h1_cm_pt>0.3 and h2_cm_pt>0.3\"\\\n",
    "        + \" and h1_cm_pt<3 and h2_pid == 2212 and mx_eh1x>1.665\")\n",
    "\n",
    "print(yridge(df, ))\n",
    "\n"
   ]
  },
  {
   "cell_type": "code",
   "execution_count": 20,
   "metadata": {},
   "outputs": [],
   "source": [
    "import scipy.optimize,numpy.random,time,os\n",
    "def upper_limit_yridge(df,n=3,bins = 100,miniterations=100,maxiterations=100000,fitrange=(0,np.pi),\n",
    "                       progressPrintInterval=None, #print stats after every [...] iterations (don't print if 0)\n",
    "                       sayDone=False):\n",
    "    start = time.perf_counter()\n",
    "    x,y,dy,w=[],[],[],[]\n",
    "    denom = len(df)*2*np.pi/bins\n",
    "    for xmid, bindf in misc_util.BinIterator(df, \"abs(diff_phi)\", 0,np.pi,bins):\n",
    "        x.append(xmid)\n",
    "        y.append(len(bindf)/denom)\n",
    "        dyi = np.sqrt(len(bindf))/denom\n",
    "        dy.append(dyi)\n",
    "        w.append(1/dyi**2 if not(xmid<fitrange[0] or xmid>fitrange[1]) else 1000);\n",
    "    x = pd.Series(x)\n",
    "    y = pd.Series(y)\n",
    "    dy = pd.Series(dy)\n",
    "    w = pd.Series(w)\n",
    "    yields=[]\n",
    "    nonzeroyields=0\n",
    "    for ii in range(maxiterations):\n",
    "        yrand = y+numpy.random.randn(1)*dy*(dy<999)\n",
    "        if n==3:\n",
    "            def f (xx,b0,b1,b2,b3):\n",
    "                args=[b0,b1,b2,b3]\n",
    "                tot = 0\n",
    "                for i in range(len(args)):\n",
    "                    tot+=args[i]*np.cos(i*xx)\n",
    "                return tot\n",
    "        \n",
    "        if n==4:\n",
    "            def f (xx,b0,b1,b2,b3,b4):\n",
    "                args=[b0,b1,b2,b3,b4]\n",
    "                tot = 0\n",
    "                for i in range(len(args)):\n",
    "                    tot+=args[i]*np.cos(i*xx)\n",
    "                return tot\n",
    "        if n==5:\n",
    "            def f (xx,b0,b1,b2,b3,b4,b5):\n",
    "                args=[b0,b1,b2,b3,b4,b5]\n",
    "                tot = 0\n",
    "                for i in range(len(args)):\n",
    "                    tot+=args[i]*np.cos(i*xx)\n",
    "                return tot\n",
    "        b,bcov = scipy.optimize.curve_fit(f, x, yrand,sigma=1/np.sqrt(w))\n",
    "        \n",
    "        #don't waste your time if f''[0] is positive\n",
    "        if sum([-i*i*b[i] for i in range(len(b))]) < 0:  \n",
    "            s = 0\n",
    "            for i in range(0,n+1):\n",
    "                s = b[i]*np.cos(i*x)+s\n",
    "\n",
    "            smin = max(s)\n",
    "\n",
    "            xmin=fitrange[0]\n",
    "            for xi,si in zip(x,s):\n",
    "                if(xi<fitrange[0]):\n",
    "                    continue\n",
    "                if(si<smin):\n",
    "                    xmin = xi\n",
    "                    smin = si\n",
    "            integral = 0\n",
    "            dx = x[1]-x[0]\n",
    "            for xi,si in zip(x,s):\n",
    "                if(xi<xmin):\n",
    "                    integral+=(si-smin)*dx\n",
    "                else:\n",
    "                    break\n",
    "            yields.append(integral)\n",
    "            nonzeroyields+=1\n",
    "        else :\n",
    "            yields.append(0)\n",
    "        durationsofar = time.perf_counter()-start;\n",
    "        if progressPrintInterval:\n",
    "            if ii%progressPrintInterval == 0:\n",
    "                print(\"iter \", ii, \"; average so far: \", durationsofar/(ii+1), \n",
    "                    \";   time so far: \",durationsofar//3600,\"hours\", (durationsofar//60)%60, \"minutes\", int(durationsofar % 60), \"seconds\")\n",
    "        if ii == 100 and nonzeroyields == 0:\n",
    "            break\n",
    "            \n",
    "    duration = time.perf_counter()-start;\n",
    "    print(\"total time: \",int(duration//3600),\"hours\", int((duration//60)%60), \"minutes\", int(duration % 60), \"seconds\")\n",
    "    if sayDone:\n",
    "        os.system('say \"done\"')    \n",
    "    yields = pd.Series(yields)\n",
    "    \n",
    "    UL = yields.quantile(.95)\n",
    "    CL = .95\n",
    "    \n",
    "    thresh = 1e-5\n",
    "    if UL <thresh:\n",
    "        UL = thresh\n",
    "        CL = len(yields[yields<thresh])/len(yields)\n",
    "    return UL, CL\n",
    "    \n",
    "    "
   ]
  },
  {
   "cell_type": "code",
   "execution_count": 21,
   "metadata": {},
   "outputs": [
    {
     "name": "stdout",
     "output_type": "stream",
     "text": [
      "total time:  0 hours 0 minutes 2 seconds\n",
      "(1e-05, 1.0)\n"
     ]
    }
   ],
   "source": [
    "\n",
    "df = data_dihadrons.query(\"h1_cm_eta-h2_cm_eta>2.0 and h1_cm_eta-h2_cm_eta<200.0 and h1_cm_pt>0.3 and h2_cm_pt>0.3\"\\\n",
    "        + \" and h1_cm_pt<3 and h2_pid == 2212 and mx_eh1x>1.665\")\n",
    "print(upper_limit_yridge(df,miniterations=100,n=3,bins=50,fitrange=(0,np.pi)))\n"
   ]
  },
  {
   "cell_type": "code",
   "execution_count": null,
   "metadata": {},
   "outputs": [
    {
     "name": "stdout",
     "output_type": "stream",
     "text": [
      "total time:  0 hours 0 minutes 3 seconds\n",
      "1e-05 1.0\n",
      "total time:  0 hours 0 minutes 3 seconds\n",
      "1e-05 1.0\n",
      "total time:  0 hours 0 minutes 3 seconds\n",
      "1e-05 1.0\n",
      "total time:  0 hours 0 minutes 3 seconds\n",
      "1e-05 1.0\n",
      "total time:  0 hours 0 minutes 3 seconds\n",
      "1e-05 1.0\n",
      "total time:  0 hours 0 minutes 3 seconds\n",
      "1e-05 1.0\n",
      "total time:  0 hours 0 minutes 3 seconds\n",
      "1e-05 1.0\n",
      "total time:  0 hours 0 minutes 3 seconds\n",
      "1e-05 1.0\n",
      "total time:  0 hours 0 minutes 3 seconds\n",
      "1e-05 1.0\n"
     ]
    }
   ],
   "source": [
    "df = data_dihadrons.query(\"h1_cm_eta-h2_cm_eta>2.0 and h1_cm_eta-h2_cm_eta<200.0 and h1_cm_pt>0.3 and h2_cm_pt>0.3\"\\\n",
    "        + \" and h2_pid == 2212 and mx_eh1x>1.665\")\n",
    "\n",
    "for pid,pm,shift in (211,\"+\",0),(-211,'-',0.025):\n",
    "    x,y,cl=[],[],[]\n",
    "    df_pid = df.query(\"h1_pid == %s\" %pid)\n",
    "    for xmid,bindf in misc_util.BinIterator(df_pid,\"h1_cm_pt\", 0.3, 0.9,6):\n",
    "        UL,CL = upper_limit_yridge(df,miniterations=100,n=3,bins=50,fitrange=(0,np.pi))\n",
    "        print(UL,CL)\n",
    "        x.append(xmid+shift)\n",
    "        y.append(UL)\n",
    "        cl.append(CL)\n",
    "    plt.plot(x,y,marker='o',label='$\\\\pi^%sp$'%pm,linestyle='')\n",
    "    plt.gca().set_yscale('log')\n",
    "    for i in range(len(x)):\n",
    "        plt.text(x[i],y[i],'%s'%int(100*cl[i]))\n",
    "plt.gca().set_xlabel(\"$p_t(\\\\pi)$\")\n",
    "plt.gca().legend()\n",
    "plt.show()"
   ]
  },
  {
   "cell_type": "code",
   "execution_count": null,
   "metadata": {},
   "outputs": [],
   "source": []
  }
 ],
 "metadata": {
  "kernelspec": {
   "display_name": "Python 3",
   "language": "python",
   "name": "python3"
  },
  "language_info": {
   "codemirror_mode": {
    "name": "ipython",
    "version": 3
   },
   "file_extension": ".py",
   "mimetype": "text/x-python",
   "name": "python",
   "nbconvert_exporter": "python",
   "pygments_lexer": "ipython3",
   "version": "3.8.3"
  }
 },
 "nbformat": 4,
 "nbformat_minor": 4
}
