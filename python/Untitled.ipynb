{
 "cells": [
  {
   "cell_type": "code",
   "execution_count": 1,
   "metadata": {},
   "outputs": [
    {
     "name": "stderr",
     "output_type": "stream",
     "text": [
      "/home/sebouh/.local/lib/python3.8/site-packages/uproot3/__init__.py:127: FutureWarning: Consider switching from 'uproot3' to 'uproot', since the new interface became the default in 2020.\n",
      "\n",
      "    pip install -U uproot\n",
      "\n",
      "In Python:\n",
      "\n",
      "    >>> import uproot\n",
      "    >>> with uproot.open(...) as file:\n",
      "    ...\n",
      "\n",
      "  warnings.warn(\n",
      "/home/sebouh/.local/lib/python3.8/site-packages/awkward0/__init__.py:12: FutureWarning: Consider switching from 'awkward0' to 'awkward', since the new interface became the default in 2020.\n",
      "\n",
      "    pip install -U awkward\n",
      "\n",
      "In Python:\n",
      "\n",
      "    >>> import awkward as ak\n",
      "    >>> new_style_array = ak.from_awkward0(old_style_array)\n",
      "    >>> old_style_array = ak.to_awkward0(new_style_array)\n",
      "\n",
      "  warnings.warn(\n"
     ]
    },
    {
     "name": "stdout",
     "output_type": "stream",
     "text": [
      "Welcome to JupyROOT 6.22/06\n"
     ]
    }
   ],
   "source": [
    "#load libraries \n",
    "import time,os\n",
    "from matplotlib.offsetbox import AnchoredText\n",
    "import sys,pandas as pd, matplotlib , matplotlib.pyplot as plt, matplotlib.lines , numpy as np,cupy as cp, math, pylab\n",
    "from mpl_toolkits.mplot3d import Axes3D\n",
    "from matplotlib import cm\n",
    "#import cudf\n",
    "#import ROOT\n",
    "#from ROOT import TFile\n",
    "\n",
    "#import root_pandas\n",
    "\n",
    "#from toggle_cell import hide_cell \n",
    "import uproot3\n",
    "%matplotlib inline\n",
    "\n",
    "#presets for plot style\n",
    "from scipy.constants import golden\n",
    "params = {'legend.fontsize': 'x-large',\n",
    "          'figure.figsize': (7, 7/golden),\n",
    "         'axes.labelsize': 'x-large',\n",
    "         'axes.titlesize':'x-large',\n",
    "         'xtick.labelsize':'x-large',\n",
    "         'ytick.labelsize':'x-large'}\n",
    "pylab.rcParams.update(params)\n",
    "\n",
    "viridis = cm.get_cmap('viridis', 12)\n",
    "inferno = cm.get_cmap('inferno', 12)\n",
    "autumn = cm.get_cmap('autumn', 12)\n",
    "\n",
    "#physical_devices = tf.config.list_physical_devices('GPU')\n",
    "#tf.config.experimental.set_memory_growth(physical_devices[0], True)\n",
    "#tf.config.experimental.set_memory_growth(physical_devices[1], True)\n",
    "rc = plt.rc\n",
    "rc('text', usetex=False)\n",
    "import matplotlib as mpl\n",
    "rc('font', family='serif')\n",
    "rc('text', usetex=False)\n",
    "rc('font', size=15)\n",
    "rc('xtick', labelsize=15)\n",
    "rc('ytick', labelsize=15)\n",
    "rc('legend', fontsize=15)\n",
    "import root_pandas,glob\n",
    "\n",
    "import gc\n",
    "\n",
    "def read_n(pattern, n):\n",
    "    if not '*' in pattern:\n",
    "        a = root_pandas.read_root(pattern,chunksize=int(n))\n",
    "    else:\n",
    "        a = root_pandas.read_root(glob.glob(pattern),chunksize=int(n))\n",
    "    for b in a:\n",
    "        del a\n",
    "        print(len(b))\n",
    "        return b\n",
    "\n",
    "from scipy.optimize import curve_fit\n",
    "\n",
    "image_dir='/home/sebouh/dihadron-analysis-note/images/'\n",
    "\n",
    "import misc_util"
   ]
  },
  {
   "cell_type": "code",
   "execution_count": 2,
   "metadata": {},
   "outputs": [
    {
     "ename": "KeyboardInterrupt",
     "evalue": "",
     "output_type": "error",
     "traceback": [
      "\u001b[0;31m---------------------------------------------------------------------------\u001b[0m",
      "\u001b[0;31mKeyboardInterrupt\u001b[0m                         Traceback (most recent call last)",
      "\u001b[0;32m<ipython-input-2-9f89b4f39709>\u001b[0m in \u001b[0;36m<module>\u001b[0;34m\u001b[0m\n\u001b[0;32m----> 1\u001b[0;31m \u001b[0mmc_dihadrons_outb\u001b[0m \u001b[0;34m=\u001b[0m \u001b[0mroot_pandas\u001b[0m\u001b[0;34m.\u001b[0m\u001b[0mread_root\u001b[0m\u001b[0;34m(\u001b[0m\u001b[0mglob\u001b[0m\u001b[0;34m.\u001b[0m\u001b[0mglob\u001b[0m\u001b[0;34m(\u001b[0m\u001b[0;34m\"/home/sebouh/tuples_hadd/mc_dihadrons_outb.root\"\u001b[0m\u001b[0;34m)\u001b[0m\u001b[0;34m,\u001b[0m\u001b[0;34m'dihadrons'\u001b[0m\u001b[0;34m)\u001b[0m\u001b[0;34m\u001b[0m\u001b[0;34m\u001b[0m\u001b[0m\n\u001b[0m\u001b[1;32m      2\u001b[0m \u001b[0mmc_dihadrons_inb\u001b[0m \u001b[0;34m=\u001b[0m \u001b[0mroot_pandas\u001b[0m\u001b[0;34m.\u001b[0m\u001b[0mread_root\u001b[0m\u001b[0;34m(\u001b[0m\u001b[0mglob\u001b[0m\u001b[0;34m.\u001b[0m\u001b[0mglob\u001b[0m\u001b[0;34m(\u001b[0m\u001b[0;34m\"/home/sebouh/tuples_hadd/mc_dihadrons_inb.root\"\u001b[0m\u001b[0;34m)\u001b[0m\u001b[0;34m,\u001b[0m\u001b[0;34m'dihadrons'\u001b[0m\u001b[0;34m)\u001b[0m\u001b[0;34m\u001b[0m\u001b[0;34m\u001b[0m\u001b[0m\n",
      "\u001b[0;32m~/.local/lib/python3.8/site-packages/root_pandas/readwrite.py\u001b[0m in \u001b[0;36mread_root\u001b[0;34m(paths, key, columns, ignore, chunksize, where, flatten, *args, **kwargs)\u001b[0m\n\u001b[1;32m    277\u001b[0m     \u001b[0;32mif\u001b[0m \u001b[0mflatten\u001b[0m\u001b[0;34m:\u001b[0m\u001b[0;34m\u001b[0m\u001b[0;34m\u001b[0m\u001b[0m\n\u001b[1;32m    278\u001b[0m         \u001b[0marr\u001b[0m \u001b[0;34m=\u001b[0m \u001b[0mdo_flatten\u001b[0m\u001b[0;34m(\u001b[0m\u001b[0marr\u001b[0m\u001b[0;34m,\u001b[0m \u001b[0mflatten\u001b[0m\u001b[0;34m)\u001b[0m\u001b[0;34m\u001b[0m\u001b[0;34m\u001b[0m\u001b[0m\n\u001b[0;32m--> 279\u001b[0;31m     \u001b[0;32mreturn\u001b[0m \u001b[0mconvert_to_dataframe\u001b[0m\u001b[0;34m(\u001b[0m\u001b[0marr\u001b[0m\u001b[0;34m)\u001b[0m\u001b[0;34m\u001b[0m\u001b[0;34m\u001b[0m\u001b[0m\n\u001b[0m\u001b[1;32m    280\u001b[0m \u001b[0;34m\u001b[0m\u001b[0m\n\u001b[1;32m    281\u001b[0m \u001b[0;34m\u001b[0m\u001b[0m\n",
      "\u001b[0;32m~/.local/lib/python3.8/site-packages/root_pandas/readwrite.py\u001b[0m in \u001b[0;36mconvert_to_dataframe\u001b[0;34m(array, start_index)\u001b[0m\n\u001b[1;32m    297\u001b[0m         \u001b[0;32mif\u001b[0m \u001b[0mstart_index\u001b[0m \u001b[0;32mis\u001b[0m \u001b[0;32mnot\u001b[0m \u001b[0;32mNone\u001b[0m\u001b[0;34m:\u001b[0m\u001b[0;34m\u001b[0m\u001b[0;34m\u001b[0m\u001b[0m\n\u001b[1;32m    298\u001b[0m             \u001b[0mindex\u001b[0m \u001b[0;34m=\u001b[0m \u001b[0mRangeIndex\u001b[0m\u001b[0;34m(\u001b[0m\u001b[0mstart\u001b[0m\u001b[0;34m=\u001b[0m\u001b[0mstart_index\u001b[0m\u001b[0;34m,\u001b[0m \u001b[0mstop\u001b[0m\u001b[0;34m=\u001b[0m\u001b[0mstart_index\u001b[0m \u001b[0;34m+\u001b[0m \u001b[0mlen\u001b[0m\u001b[0;34m(\u001b[0m\u001b[0marray\u001b[0m\u001b[0;34m)\u001b[0m\u001b[0;34m)\u001b[0m\u001b[0;34m\u001b[0m\u001b[0;34m\u001b[0m\u001b[0m\n\u001b[0;32m--> 299\u001b[0;31m         \u001b[0mdf\u001b[0m \u001b[0;34m=\u001b[0m \u001b[0mDataFrame\u001b[0m\u001b[0;34m.\u001b[0m\u001b[0mfrom_records\u001b[0m\u001b[0;34m(\u001b[0m\u001b[0marray\u001b[0m\u001b[0;34m,\u001b[0m \u001b[0mexclude\u001b[0m\u001b[0;34m=\u001b[0m\u001b[0mreshaped_columns\u001b[0m\u001b[0;34m,\u001b[0m \u001b[0mindex\u001b[0m\u001b[0;34m=\u001b[0m\u001b[0mindex\u001b[0m\u001b[0;34m)\u001b[0m\u001b[0;34m\u001b[0m\u001b[0;34m\u001b[0m\u001b[0m\n\u001b[0m\u001b[1;32m    300\u001b[0m     \u001b[0;32melif\u001b[0m \u001b[0mlen\u001b[0m\u001b[0;34m(\u001b[0m\u001b[0mindices\u001b[0m\u001b[0;34m)\u001b[0m \u001b[0;34m==\u001b[0m \u001b[0;36m1\u001b[0m\u001b[0;34m:\u001b[0m\u001b[0;34m\u001b[0m\u001b[0;34m\u001b[0m\u001b[0m\n\u001b[1;32m    301\u001b[0m         \u001b[0;31m# We store the index under the __index__* branch, where\u001b[0m\u001b[0;34m\u001b[0m\u001b[0;34m\u001b[0m\u001b[0;34m\u001b[0m\u001b[0m\n",
      "\u001b[0;32m/usr/lib/python3/dist-packages/pandas/core/frame.py\u001b[0m in \u001b[0;36mfrom_records\u001b[0;34m(cls, data, index, exclude, columns, coerce_float, nrows)\u001b[0m\n\u001b[1;32m   1650\u001b[0m             \u001b[0mcolumns\u001b[0m \u001b[0;34m=\u001b[0m \u001b[0mcolumns\u001b[0m\u001b[0;34m.\u001b[0m\u001b[0mdrop\u001b[0m\u001b[0;34m(\u001b[0m\u001b[0mexclude\u001b[0m\u001b[0;34m)\u001b[0m\u001b[0;34m\u001b[0m\u001b[0;34m\u001b[0m\u001b[0m\n\u001b[1;32m   1651\u001b[0m \u001b[0;34m\u001b[0m\u001b[0m\n\u001b[0;32m-> 1652\u001b[0;31m         \u001b[0mmgr\u001b[0m \u001b[0;34m=\u001b[0m \u001b[0marrays_to_mgr\u001b[0m\u001b[0;34m(\u001b[0m\u001b[0marrays\u001b[0m\u001b[0;34m,\u001b[0m \u001b[0marr_columns\u001b[0m\u001b[0;34m,\u001b[0m \u001b[0mresult_index\u001b[0m\u001b[0;34m,\u001b[0m \u001b[0mcolumns\u001b[0m\u001b[0;34m)\u001b[0m\u001b[0;34m\u001b[0m\u001b[0;34m\u001b[0m\u001b[0m\n\u001b[0m\u001b[1;32m   1653\u001b[0m \u001b[0;34m\u001b[0m\u001b[0m\n\u001b[1;32m   1654\u001b[0m         \u001b[0;32mreturn\u001b[0m \u001b[0mcls\u001b[0m\u001b[0;34m(\u001b[0m\u001b[0mmgr\u001b[0m\u001b[0;34m)\u001b[0m\u001b[0;34m\u001b[0m\u001b[0;34m\u001b[0m\u001b[0m\n",
      "\u001b[0;32m/usr/lib/python3/dist-packages/pandas/core/internals/construction.py\u001b[0m in \u001b[0;36marrays_to_mgr\u001b[0;34m(arrays, arr_names, index, columns, dtype)\u001b[0m\n\u001b[1;32m     85\u001b[0m     \u001b[0maxes\u001b[0m \u001b[0;34m=\u001b[0m \u001b[0;34m[\u001b[0m\u001b[0mensure_index\u001b[0m\u001b[0;34m(\u001b[0m\u001b[0mcolumns\u001b[0m\u001b[0;34m)\u001b[0m\u001b[0;34m,\u001b[0m \u001b[0mindex\u001b[0m\u001b[0;34m]\u001b[0m\u001b[0;34m\u001b[0m\u001b[0;34m\u001b[0m\u001b[0m\n\u001b[1;32m     86\u001b[0m \u001b[0;34m\u001b[0m\u001b[0m\n\u001b[0;32m---> 87\u001b[0;31m     \u001b[0;32mreturn\u001b[0m \u001b[0mcreate_block_manager_from_arrays\u001b[0m\u001b[0;34m(\u001b[0m\u001b[0marrays\u001b[0m\u001b[0;34m,\u001b[0m \u001b[0marr_names\u001b[0m\u001b[0;34m,\u001b[0m \u001b[0maxes\u001b[0m\u001b[0;34m)\u001b[0m\u001b[0;34m\u001b[0m\u001b[0;34m\u001b[0m\u001b[0m\n\u001b[0m\u001b[1;32m     88\u001b[0m \u001b[0;34m\u001b[0m\u001b[0m\n\u001b[1;32m     89\u001b[0m \u001b[0;34m\u001b[0m\u001b[0m\n",
      "\u001b[0;32m/usr/lib/python3/dist-packages/pandas/core/internals/managers.py\u001b[0m in \u001b[0;36mcreate_block_manager_from_arrays\u001b[0;34m(arrays, names, axes)\u001b[0m\n\u001b[1;32m   1692\u001b[0m \u001b[0;34m\u001b[0m\u001b[0m\n\u001b[1;32m   1693\u001b[0m     \u001b[0;32mtry\u001b[0m\u001b[0;34m:\u001b[0m\u001b[0;34m\u001b[0m\u001b[0;34m\u001b[0m\u001b[0m\n\u001b[0;32m-> 1694\u001b[0;31m         \u001b[0mblocks\u001b[0m \u001b[0;34m=\u001b[0m \u001b[0mform_blocks\u001b[0m\u001b[0;34m(\u001b[0m\u001b[0marrays\u001b[0m\u001b[0;34m,\u001b[0m \u001b[0mnames\u001b[0m\u001b[0;34m,\u001b[0m \u001b[0maxes\u001b[0m\u001b[0;34m)\u001b[0m\u001b[0;34m\u001b[0m\u001b[0;34m\u001b[0m\u001b[0m\n\u001b[0m\u001b[1;32m   1695\u001b[0m         \u001b[0mmgr\u001b[0m \u001b[0;34m=\u001b[0m \u001b[0mBlockManager\u001b[0m\u001b[0;34m(\u001b[0m\u001b[0mblocks\u001b[0m\u001b[0;34m,\u001b[0m \u001b[0maxes\u001b[0m\u001b[0;34m)\u001b[0m\u001b[0;34m\u001b[0m\u001b[0;34m\u001b[0m\u001b[0m\n\u001b[1;32m   1696\u001b[0m         \u001b[0mmgr\u001b[0m\u001b[0;34m.\u001b[0m\u001b[0m_consolidate_inplace\u001b[0m\u001b[0;34m(\u001b[0m\u001b[0;34m)\u001b[0m\u001b[0;34m\u001b[0m\u001b[0;34m\u001b[0m\u001b[0m\n",
      "\u001b[0;32m/usr/lib/python3/dist-packages/pandas/core/internals/managers.py\u001b[0m in \u001b[0;36mform_blocks\u001b[0;34m(arrays, names, axes)\u001b[0m\n\u001b[1;32m   1750\u001b[0m     \u001b[0mblocks\u001b[0m \u001b[0;34m=\u001b[0m \u001b[0;34m[\u001b[0m\u001b[0;34m]\u001b[0m\u001b[0;34m\u001b[0m\u001b[0;34m\u001b[0m\u001b[0m\n\u001b[1;32m   1751\u001b[0m     \u001b[0;32mif\u001b[0m \u001b[0mlen\u001b[0m\u001b[0;34m(\u001b[0m\u001b[0mitems_dict\u001b[0m\u001b[0;34m[\u001b[0m\u001b[0;34m\"FloatBlock\"\u001b[0m\u001b[0;34m]\u001b[0m\u001b[0;34m)\u001b[0m\u001b[0;34m:\u001b[0m\u001b[0;34m\u001b[0m\u001b[0;34m\u001b[0m\u001b[0m\n\u001b[0;32m-> 1752\u001b[0;31m         \u001b[0mfloat_blocks\u001b[0m \u001b[0;34m=\u001b[0m \u001b[0m_multi_blockify\u001b[0m\u001b[0;34m(\u001b[0m\u001b[0mitems_dict\u001b[0m\u001b[0;34m[\u001b[0m\u001b[0;34m\"FloatBlock\"\u001b[0m\u001b[0;34m]\u001b[0m\u001b[0;34m)\u001b[0m\u001b[0;34m\u001b[0m\u001b[0;34m\u001b[0m\u001b[0m\n\u001b[0m\u001b[1;32m   1753\u001b[0m         \u001b[0mblocks\u001b[0m\u001b[0;34m.\u001b[0m\u001b[0mextend\u001b[0m\u001b[0;34m(\u001b[0m\u001b[0mfloat_blocks\u001b[0m\u001b[0;34m)\u001b[0m\u001b[0;34m\u001b[0m\u001b[0;34m\u001b[0m\u001b[0m\n\u001b[1;32m   1754\u001b[0m \u001b[0;34m\u001b[0m\u001b[0m\n",
      "\u001b[0;32m/usr/lib/python3/dist-packages/pandas/core/internals/managers.py\u001b[0m in \u001b[0;36m_multi_blockify\u001b[0;34m(tuples, dtype)\u001b[0m\n\u001b[1;32m   1844\u001b[0m     \u001b[0;32mfor\u001b[0m \u001b[0mdtype\u001b[0m\u001b[0;34m,\u001b[0m \u001b[0mtup_block\u001b[0m \u001b[0;32min\u001b[0m \u001b[0mgrouper\u001b[0m\u001b[0;34m:\u001b[0m\u001b[0;34m\u001b[0m\u001b[0;34m\u001b[0m\u001b[0m\n\u001b[1;32m   1845\u001b[0m \u001b[0;34m\u001b[0m\u001b[0m\n\u001b[0;32m-> 1846\u001b[0;31m         \u001b[0mvalues\u001b[0m\u001b[0;34m,\u001b[0m \u001b[0mplacement\u001b[0m \u001b[0;34m=\u001b[0m \u001b[0m_stack_arrays\u001b[0m\u001b[0;34m(\u001b[0m\u001b[0mlist\u001b[0m\u001b[0;34m(\u001b[0m\u001b[0mtup_block\u001b[0m\u001b[0;34m)\u001b[0m\u001b[0;34m,\u001b[0m \u001b[0mdtype\u001b[0m\u001b[0;34m)\u001b[0m\u001b[0;34m\u001b[0m\u001b[0;34m\u001b[0m\u001b[0m\n\u001b[0m\u001b[1;32m   1847\u001b[0m \u001b[0;34m\u001b[0m\u001b[0m\n\u001b[1;32m   1848\u001b[0m         \u001b[0mblock\u001b[0m \u001b[0;34m=\u001b[0m \u001b[0mmake_block\u001b[0m\u001b[0;34m(\u001b[0m\u001b[0mvalues\u001b[0m\u001b[0;34m,\u001b[0m \u001b[0mplacement\u001b[0m\u001b[0;34m=\u001b[0m\u001b[0mplacement\u001b[0m\u001b[0;34m)\u001b[0m\u001b[0;34m\u001b[0m\u001b[0;34m\u001b[0m\u001b[0m\n",
      "\u001b[0;32m/usr/lib/python3/dist-packages/pandas/core/internals/managers.py\u001b[0m in \u001b[0;36m_stack_arrays\u001b[0;34m(tuples, dtype)\u001b[0m\n\u001b[1;32m   1874\u001b[0m     \u001b[0mstacked\u001b[0m \u001b[0;34m=\u001b[0m \u001b[0mnp\u001b[0m\u001b[0;34m.\u001b[0m\u001b[0mempty\u001b[0m\u001b[0;34m(\u001b[0m\u001b[0mshape\u001b[0m\u001b[0;34m,\u001b[0m \u001b[0mdtype\u001b[0m\u001b[0;34m=\u001b[0m\u001b[0mdtype\u001b[0m\u001b[0;34m)\u001b[0m\u001b[0;34m\u001b[0m\u001b[0;34m\u001b[0m\u001b[0m\n\u001b[1;32m   1875\u001b[0m     \u001b[0;32mfor\u001b[0m \u001b[0mi\u001b[0m\u001b[0;34m,\u001b[0m \u001b[0marr\u001b[0m \u001b[0;32min\u001b[0m \u001b[0menumerate\u001b[0m\u001b[0;34m(\u001b[0m\u001b[0marrays\u001b[0m\u001b[0;34m)\u001b[0m\u001b[0;34m:\u001b[0m\u001b[0;34m\u001b[0m\u001b[0;34m\u001b[0m\u001b[0m\n\u001b[0;32m-> 1876\u001b[0;31m         \u001b[0mstacked\u001b[0m\u001b[0;34m[\u001b[0m\u001b[0mi\u001b[0m\u001b[0;34m]\u001b[0m \u001b[0;34m=\u001b[0m \u001b[0m_asarray_compat\u001b[0m\u001b[0;34m(\u001b[0m\u001b[0marr\u001b[0m\u001b[0;34m)\u001b[0m\u001b[0;34m\u001b[0m\u001b[0;34m\u001b[0m\u001b[0m\n\u001b[0m\u001b[1;32m   1877\u001b[0m \u001b[0;34m\u001b[0m\u001b[0m\n\u001b[1;32m   1878\u001b[0m     \u001b[0;32mreturn\u001b[0m \u001b[0mstacked\u001b[0m\u001b[0;34m,\u001b[0m \u001b[0mplacement\u001b[0m\u001b[0;34m\u001b[0m\u001b[0;34m\u001b[0m\u001b[0m\n",
      "\u001b[0;31mKeyboardInterrupt\u001b[0m: "
     ]
    }
   ],
   "source": [
    "mc_dihadrons_outb = root_pandas.read_root(glob.glob(\"/home/sebouh/tuples_hadd/mc_dihadrons_outb.root\"),'dihadrons')\n",
    "mc_dihadrons_inb = root_pandas.read_root(glob.glob(\"/home/sebouh/tuples_hadd/mc_dihadrons_inb.root\"),'dihadrons')"
   ]
  },
  {
   "cell_type": "code",
   "execution_count": 13,
   "metadata": {},
   "outputs": [],
   "source": [
    "pi_pi_mc_inb = mc_dihadrons_inb.query(\"h1_cm_pt>0.3 and h2_cm_pt>0.3\"\\\n",
    "        + \" and abs(h2_pid) == 211 and abs(h1_pid) ==211 and h2_truth_z < 0.5\")\n",
    "pi_pi_mc_outb = mc_dihadrons_outb.query(\"h1_cm_pt>0.3 and h2_cm_pt>0.3\"\\\n",
    "        + \" and abs(h2_pid) == 211 and abs(h1_pid) ==211 and h2_truth_z < 0.5\")\n",
    "\n",
    "pi_p_mXcut_mc_inb = mc_dihadrons_inb.query(\"h1_cm_pt>0.3 and h2_cm_pt>0.3\"\\\n",
    "        + \" and h2_pid == 2212 and mx_eh1x_truth > 1.665 and abs(h1_pid) ==211 and h2_truth_z < 0.5\")\n",
    "pi_p_mXcut_mc_outb = mc_dihadrons_outb.query(\"h1_cm_pt>0.3 and h2_cm_pt>0.3\"\\\n",
    "        + \" and h2_pid == 2212 and mx_eh1x_truth > 1.665 and abs(h1_pid) ==211 and h2_truth_z < 0.5\")"
   ]
  },
  {
   "cell_type": "code",
   "execution_count": 22,
   "metadata": {},
   "outputs": [
    {
     "name": "stdout",
     "output_type": "stream",
     "text": [
      "x = [-1.5079644737231006, -1.3823007675795091, -1.2566370614359172, -1.1309733552923253, -1.0053096491487339, -0.879645943005142, -0.7539822368615503, -0.6283185307179585, -0.5026548245743668, -0.37699111843077515, -0.25132741228718336, -0.12566370614359157, 1.1102230246251565e-16, 0.1256637061435919, 0.2513274122871837, 0.3769911184307754, 0.5026548245743672, 0.6283185307179588, 0.7539822368615505, 0.8796459430051422, 1.0053096491487339, 1.1309733552923258, 1.2566370614359175, 1.3823007675795091, 1.507964473723101, 1.6336281798666927, 1.7592918860102844, 1.8849555921538763, 2.0106192982974678, 2.1362830044410597, 2.2619467105846516, 2.387610416728243, 2.513274122871835, 2.638937829015427, 2.7646015351590183, 2.8902652413026098, 3.0159289474462017, 3.1415926535897936, 3.2672563597333855, 3.392920065876977, 3.5185837720205684, 3.6442474781641603, 3.769911184307752, 3.895574890451344, 4.0212385965949355, 4.1469023027385274, 4.272566008882119, 4.39822971502571, 4.523893421169303, 4.649557127312894]\n",
      "y =  [0.9945813487013302, 1.0069576916897, 0.9892122505450983, 0.9990672999367577, 1.0024475824599324, 0.9821912978504187, 0.9930060190892085, 0.9677939662658528, 0.9881980074735606, 0.9899686649630721, 0.9819534506631498, 0.9792957151631908, 0.9808460723325206, 0.9848092608858771, 0.9815885510469373, 0.993720492094385, 0.9983533978665078, 0.978673741536884, 0.9947819361383764, 0.9977542846757047, 1.0142923462410995, 1.0032042689990301, 1.0007759370276579, 1.012986647391401, 1.0046648509622416, 1.0132371243847837, 1.0035364047336996, 0.9959206707621036, 0.997955681166212, 1.0039453572207986, 0.9974866959776493, 1.0006509902834302, 1.0000256054137153, 0.995884199826339, 1.0015662497403934, 1.002027575037493, 1.0013096583427203, 1.0038915028632707, 1.0034309349771737, 1.0017789040101925, 1.0004362590696954, 0.999861916570942, 0.9924436753259956, 0.9991392053932006, 0.9963192626551552, 0.9995370117269088, 0.9988278578219228, 0.9990131641740047, 1.0039090887743396, 1.0039737249770082]\n",
      "dy =  [0.004641260391088313, 0.005202053877305372, 0.005304224271336058, 0.005707661937441923, 0.006255081301333079, 0.006285362535865702, 0.006694257872876822, 0.006206778506045795, 0.006954796562280997, 0.007404393530930526, 0.007074206813304321, 0.007259674614273718, 0.007377859965574424, 0.007591731083834659, 0.007338397026729553, 0.007279480778421198, 0.007177502351888067, 0.006706095945137983, 0.006643161367643002, 0.006313591573701554, 0.006244827440939554, 0.005862538934946439, 0.005468570944345747, 0.005266988742792219, 0.004833312847493167, 0.004451283272849892, 0.003957888952693608, 0.003585822135885389, 0.0033011619133850928, 0.0031474866942841117, 0.002813343827346413, 0.0026213453057318346, 0.002453270868518961, 0.002270433475262974, 0.0021804737015867124, 0.0021099164222205544, 0.00201919186632866, 0.0020189443707923547, 0.0020487778176820513, 0.002076229937707221, 0.0021599466545057194, 0.0022740573258621345, 0.0023657062057689526, 0.002624676073957628, 0.0027830320032416617, 0.0030409547902141873, 0.003329800586929857, 0.00364252592437038, 0.0040110667446665235, 0.00430394405088961]\n",
      "x = [-1.5079644737231006, -1.3823007675795091, -1.2566370614359172, -1.1309733552923253, -1.0053096491487339, -0.879645943005142, -0.7539822368615503, -0.6283185307179585, -0.5026548245743668, -0.37699111843077515, -0.25132741228718336, -0.12566370614359157, 1.1102230246251565e-16, 0.1256637061435919, 0.2513274122871837, 0.3769911184307754, 0.5026548245743672, 0.6283185307179588, 0.7539822368615505, 0.8796459430051422, 1.0053096491487339, 1.1309733552923258, 1.2566370614359175, 1.3823007675795091, 1.507964473723101, 1.6336281798666927, 1.7592918860102844, 1.8849555921538763, 2.0106192982974678, 2.1362830044410597, 2.2619467105846516, 2.387610416728243, 2.513274122871835, 2.638937829015427, 2.7646015351590183, 2.8902652413026098, 3.0159289474462017, 3.1415926535897936, 3.2672563597333855, 3.392920065876977, 3.5185837720205684, 3.6442474781641603, 3.769911184307752, 3.895574890451344, 4.0212385965949355, 4.1469023027385274, 4.272566008882119, 4.39822971502571, 4.523893421169303, 4.649557127312894]\n",
      "y =  [1.0144197649482727, 1.0458110831275849, 1.056863749388745, 1.0271390982352893, 1.021349463057242, 1.048888215398339, 1.0772336607406787, 1.0341674905541307, 1.061656750755893, 1.060959826647806, 1.058119552133577, 1.090571181625329, 1.050308750385741, 1.0222946360501175, 1.0404609375093845, 1.0330185270014909, 1.0601069426073504, 1.0304693575031996, 1.0650813344046244, 1.038570535210802, 1.0496013014451473, 1.0159916532361633, 1.0301878732027836, 1.0309824911643803, 1.0345417447172827, 1.0168915371057445, 1.0023543377356467, 1.0046445704956086, 1.0144443707868085, 1.006227062411206, 1.0130904679853314, 0.9969959367091664, 0.9856727024302139, 0.9970140282482312, 0.983292217321156, 0.9866425542329981, 0.9688778614118222, 0.9584952710776048, 0.9601469192084947, 0.9692577775255831, 0.9689490304001883, 0.9739879724067243, 1.0018439601216302, 0.9827581619345814, 0.9923528434173485, 1.00897484628187, 1.0151228793126703, 1.004522814814393, 1.0143060990421704, 0.9982511743476763]\n",
      "dy =  [0.0079373989068383, 0.008535007198177184, 0.009277000994039249, 0.009743230903756325, 0.009836844156686318, 0.010567320672976189, 0.011358328942546597, 0.011467541959290709, 0.011846994756007484, 0.012209319992089329, 0.012484950367901159, 0.013037042669973724, 0.012535817071084622, 0.012557727987207376, 0.012165065971729576, 0.012168081236482808, 0.011925915078506417, 0.011337686508327451, 0.0111039203665903, 0.010613013535478763, 0.01001205051199319, 0.009780868344556569, 0.009124899622751549, 0.008676703095828731, 0.008065159440561808, 0.0075820784555711025, 0.006990278492527637, 0.006659341225213196, 0.006311595710277217, 0.005876282434460387, 0.0056176263552320735, 0.0053266456235577355, 0.0051120582156930355, 0.00492661210655281, 0.004715576022091258, 0.004691319080941245, 0.004629974837859498, 0.004595163005693922, 0.004615269243914689, 0.0047246906978819616, 0.004700121638739947, 0.004865313037682358, 0.0051852056159011764, 0.0052649103118029604, 0.005622457790110079, 0.0059279132956931106, 0.006393370945812377, 0.006612836996872932, 0.007000741317673558, 0.007444984582677539]\n"
     ]
    }
   ],
   "source": [
    "bins = 50\n",
    "def offset(a):\n",
    "    return a+2*np.pi*(a<-np.pi/2)-2*np.pi*(a>=3*np.pi/2)\n",
    "for i in (0,1):\n",
    "    \n",
    "\n",
    "    q = (\"diff_rap_cm_truth > %s and diff_rap_cm_truth < %s\" %(1.5,2.5)) \n",
    "    q += \" and h2_truth_z<0.5 and h1_truth_p>0 and h2_truth_p>0  and h2_truth_z<h1_truth_z \"\n",
    "    q += \" and h1_truth_cm_pt>0.3 and h2_truth_cm_pt>0.3 and abs(h1_truth_pid) ==211 and h1_truth_z > 0.4\"\n",
    "\n",
    "    for p in 'h1 h2 e'.split():\n",
    "        q += \" and part_truth_th < 45*3.14159/180 and part_truth_th > 5*3.14159/180\".replace(\"part\",p)\n",
    "\n",
    "    \n",
    "    if i == 1:\n",
    "        q+= \" and abs(h2_truth_pid) == 211\"\n",
    "        dfs = [df.query(q) for df in [mc_dihadrons_inb,mc_dihadrons_outb]]\n",
    "    else :\n",
    "        q+= \" and h2_truth_pid == 2212\"\n",
    "        dfs = [df.query(q) for df in [mc_dihadrons_inb,mc_dihadrons_outb]]\n",
    "    ys = []\n",
    "    dys = []\n",
    "    for df in dfs:\n",
    "        df.eval('mx_eh1x_truth = sqrt((E+e_truth_p+.9383)**2-(-e_truth_px-h1_truth_px)**2'\n",
    "                      +'-(-e_truth_py-h1_truth_py)**2-(E-e_truth_pz-h1_truth_pz)**2)')\n",
    "        ysmc, x = np.histogram(offset(df.query(\"h2_cm_ph!=0\").diff_phi_cm_truth), bins=bins, range=(-np.pi/2,3*np.pi/2))\n",
    "        ysmc0 = ysmc\n",
    "        \n",
    "        x = np.add(x[1:],x[:-1])/2\n",
    "        denom = sum(ysmc)*(x[1]-x[0])\n",
    "        dysmc = np.sqrt(ysmc)\n",
    "        ysmc=np.divide(ysmc,denom)\n",
    "        dysmc=np.divide(dysmc,denom)\n",
    "    \n",
    "        \n",
    "        yt,x = np.histogram(offset(df.diff_phi_cm_truth), bins=bins, range=(-np.pi/2,3*np.pi/2))\n",
    "        x = np.add(x[1:],x[:-1])/2\n",
    "\n",
    "        yt0 = yt\n",
    "        denom = sum(yt)*(x[1]-x[0])\n",
    "        dyt=np.sqrt(yt)/denom\n",
    "        yt = yt/denom\n",
    "        \n",
    "        ys.append(yt/ysmc)\n",
    "        dys.append(np.sqrt(ysmc0*(yt0-ysmc0))/yt0**(3/2))\n",
    "    print(\"x =\",list(x))    \n",
    "    print(\"y = \",list((ys[0]/dys[0]**2+ys[1]/dys[1]**2)/(1/dys[0]**2+1/dys[1]**2)/(2*np.pi)))\n",
    "    print(\"dy = \", list(np.sqrt(1/(1/dys[0]**2+1/dys[1]**2))/(2*np.pi)))"
   ]
  },
  {
   "cell_type": "code",
   "execution_count": null,
   "metadata": {},
   "outputs": [],
   "source": []
  }
 ],
 "metadata": {
  "kernelspec": {
   "display_name": "Python 3",
   "language": "python",
   "name": "python3"
  },
  "language_info": {
   "codemirror_mode": {
    "name": "ipython",
    "version": 3
   },
   "file_extension": ".py",
   "mimetype": "text/x-python",
   "name": "python",
   "nbconvert_exporter": "python",
   "pygments_lexer": "ipython3",
   "version": "3.8.5"
  }
 },
 "nbformat": 4,
 "nbformat_minor": 4
}
